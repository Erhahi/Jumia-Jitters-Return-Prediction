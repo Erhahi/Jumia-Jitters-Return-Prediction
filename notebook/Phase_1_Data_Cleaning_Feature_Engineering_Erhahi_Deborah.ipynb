{
 "cells": [
  {
   "cell_type": "markdown",
   "id": "5586cfe0-89f3-44cd-af30-081e8ee9a1c3",
   "metadata": {},
   "source": [
    "# Phase 1 – Data Cleaning & Feature Engineering\n",
    "**Challenge:** DataVerse Africa – AfriMarket Seller Risk  \n",
    "**Name:** Erhahi Deborah  \n",
    "**Date:** July 2025"
   ]
  },
  {
   "cell_type": "code",
   "execution_count": 1,
   "id": "df2efa74-71c5-4261-9e2b-12120af5fee1",
   "metadata": {},
   "outputs": [
    {
     "name": "stdout",
     "output_type": "stream",
     "text": [
      "Defaulting to user installation because normal site-packages is not writeable\n",
      "Requirement already satisfied: pandas in c:\\programdata\\anaconda3\\lib\\site-packages (2.2.2)\n",
      "Requirement already satisfied: numpy in c:\\programdata\\anaconda3\\lib\\site-packages (1.26.4)\n",
      "Requirement already satisfied: matplotlib in c:\\programdata\\anaconda3\\lib\\site-packages (3.9.2)\n",
      "Requirement already satisfied: seaborn in c:\\programdata\\anaconda3\\lib\\site-packages (0.13.2)\n",
      "Requirement already satisfied: plotly in c:\\programdata\\anaconda3\\lib\\site-packages (5.24.1)\n",
      "Requirement already satisfied: scikit-learn in c:\\programdata\\anaconda3\\lib\\site-packages (1.5.1)\n",
      "Requirement already satisfied: imbalanced-learn in c:\\programdata\\anaconda3\\lib\\site-packages (0.12.3)\n",
      "Requirement already satisfied: streamlit in c:\\programdata\\anaconda3\\lib\\site-packages (1.37.1)\n",
      "Requirement already satisfied: python-dateutil>=2.8.2 in c:\\programdata\\anaconda3\\lib\\site-packages (from pandas) (2.9.0.post0)\n",
      "Requirement already satisfied: pytz>=2020.1 in c:\\programdata\\anaconda3\\lib\\site-packages (from pandas) (2024.1)\n",
      "Requirement already satisfied: tzdata>=2022.7 in c:\\programdata\\anaconda3\\lib\\site-packages (from pandas) (2023.3)\n",
      "Requirement already satisfied: contourpy>=1.0.1 in c:\\programdata\\anaconda3\\lib\\site-packages (from matplotlib) (1.2.0)\n",
      "Requirement already satisfied: cycler>=0.10 in c:\\programdata\\anaconda3\\lib\\site-packages (from matplotlib) (0.11.0)\n",
      "Requirement already satisfied: fonttools>=4.22.0 in c:\\programdata\\anaconda3\\lib\\site-packages (from matplotlib) (4.51.0)\n",
      "Requirement already satisfied: kiwisolver>=1.3.1 in c:\\programdata\\anaconda3\\lib\\site-packages (from matplotlib) (1.4.4)\n",
      "Requirement already satisfied: packaging>=20.0 in c:\\programdata\\anaconda3\\lib\\site-packages (from matplotlib) (24.1)\n",
      "Requirement already satisfied: pillow>=8 in c:\\programdata\\anaconda3\\lib\\site-packages (from matplotlib) (10.4.0)\n",
      "Requirement already satisfied: pyparsing>=2.3.1 in c:\\programdata\\anaconda3\\lib\\site-packages (from matplotlib) (3.1.2)\n",
      "Requirement already satisfied: tenacity>=6.2.0 in c:\\programdata\\anaconda3\\lib\\site-packages (from plotly) (8.2.3)\n",
      "Requirement already satisfied: scipy>=1.6.0 in c:\\programdata\\anaconda3\\lib\\site-packages (from scikit-learn) (1.13.1)\n",
      "Requirement already satisfied: joblib>=1.2.0 in c:\\programdata\\anaconda3\\lib\\site-packages (from scikit-learn) (1.4.2)\n",
      "Requirement already satisfied: threadpoolctl>=3.1.0 in c:\\programdata\\anaconda3\\lib\\site-packages (from scikit-learn) (3.5.0)\n",
      "Requirement already satisfied: altair<6,>=4.0 in c:\\programdata\\anaconda3\\lib\\site-packages (from streamlit) (5.0.1)\n",
      "Requirement already satisfied: blinker<2,>=1.0.0 in c:\\programdata\\anaconda3\\lib\\site-packages (from streamlit) (1.6.2)\n",
      "Requirement already satisfied: cachetools<6,>=4.0 in c:\\programdata\\anaconda3\\lib\\site-packages (from streamlit) (5.3.3)\n",
      "Requirement already satisfied: click<9,>=7.0 in c:\\programdata\\anaconda3\\lib\\site-packages (from streamlit) (8.1.7)\n",
      "Requirement already satisfied: protobuf<6,>=3.20 in c:\\programdata\\anaconda3\\lib\\site-packages (from streamlit) (4.25.3)\n",
      "Requirement already satisfied: pyarrow>=7.0 in c:\\programdata\\anaconda3\\lib\\site-packages (from streamlit) (16.1.0)\n",
      "Requirement already satisfied: requests<3,>=2.27 in c:\\programdata\\anaconda3\\lib\\site-packages (from streamlit) (2.32.3)\n",
      "Requirement already satisfied: rich<14,>=10.14.0 in c:\\programdata\\anaconda3\\lib\\site-packages (from streamlit) (13.7.1)\n",
      "Requirement already satisfied: toml<2,>=0.10.1 in c:\\programdata\\anaconda3\\lib\\site-packages (from streamlit) (0.10.2)\n",
      "Requirement already satisfied: typing-extensions<5,>=4.3.0 in c:\\programdata\\anaconda3\\lib\\site-packages (from streamlit) (4.11.0)\n",
      "Requirement already satisfied: gitpython!=3.1.19,<4,>=3.0.7 in c:\\programdata\\anaconda3\\lib\\site-packages (from streamlit) (3.1.43)\n",
      "Requirement already satisfied: pydeck<1,>=0.8.0b4 in c:\\programdata\\anaconda3\\lib\\site-packages (from streamlit) (0.8.0)\n",
      "Requirement already satisfied: tornado<7,>=6.0.3 in c:\\programdata\\anaconda3\\lib\\site-packages (from streamlit) (6.4.1)\n",
      "Requirement already satisfied: watchdog<5,>=2.1.5 in c:\\programdata\\anaconda3\\lib\\site-packages (from streamlit) (4.0.1)\n",
      "Requirement already satisfied: jinja2 in c:\\programdata\\anaconda3\\lib\\site-packages (from altair<6,>=4.0->streamlit) (3.1.4)\n",
      "Requirement already satisfied: jsonschema>=3.0 in c:\\programdata\\anaconda3\\lib\\site-packages (from altair<6,>=4.0->streamlit) (4.23.0)\n",
      "Requirement already satisfied: toolz in c:\\programdata\\anaconda3\\lib\\site-packages (from altair<6,>=4.0->streamlit) (0.12.0)\n",
      "Requirement already satisfied: colorama in c:\\programdata\\anaconda3\\lib\\site-packages (from click<9,>=7.0->streamlit) (0.4.6)\n",
      "Requirement already satisfied: gitdb<5,>=4.0.1 in c:\\programdata\\anaconda3\\lib\\site-packages (from gitpython!=3.1.19,<4,>=3.0.7->streamlit) (4.0.7)\n",
      "Requirement already satisfied: six>=1.5 in c:\\programdata\\anaconda3\\lib\\site-packages (from python-dateutil>=2.8.2->pandas) (1.16.0)\n",
      "Requirement already satisfied: charset-normalizer<4,>=2 in c:\\programdata\\anaconda3\\lib\\site-packages (from requests<3,>=2.27->streamlit) (3.3.2)\n",
      "Requirement already satisfied: idna<4,>=2.5 in c:\\programdata\\anaconda3\\lib\\site-packages (from requests<3,>=2.27->streamlit) (3.7)\n",
      "Requirement already satisfied: urllib3<3,>=1.21.1 in c:\\programdata\\anaconda3\\lib\\site-packages (from requests<3,>=2.27->streamlit) (2.2.3)\n",
      "Requirement already satisfied: certifi>=2017.4.17 in c:\\programdata\\anaconda3\\lib\\site-packages (from requests<3,>=2.27->streamlit) (2024.8.30)\n",
      "Requirement already satisfied: markdown-it-py>=2.2.0 in c:\\programdata\\anaconda3\\lib\\site-packages (from rich<14,>=10.14.0->streamlit) (2.2.0)\n",
      "Requirement already satisfied: pygments<3.0.0,>=2.13.0 in c:\\programdata\\anaconda3\\lib\\site-packages (from rich<14,>=10.14.0->streamlit) (2.15.1)\n",
      "Requirement already satisfied: smmap<5,>=3.0.1 in c:\\programdata\\anaconda3\\lib\\site-packages (from gitdb<5,>=4.0.1->gitpython!=3.1.19,<4,>=3.0.7->streamlit) (4.0.0)\n",
      "Requirement already satisfied: MarkupSafe>=2.0 in c:\\programdata\\anaconda3\\lib\\site-packages (from jinja2->altair<6,>=4.0->streamlit) (2.1.3)\n",
      "Requirement already satisfied: attrs>=22.2.0 in c:\\programdata\\anaconda3\\lib\\site-packages (from jsonschema>=3.0->altair<6,>=4.0->streamlit) (23.1.0)\n",
      "Requirement already satisfied: jsonschema-specifications>=2023.03.6 in c:\\programdata\\anaconda3\\lib\\site-packages (from jsonschema>=3.0->altair<6,>=4.0->streamlit) (2023.7.1)\n",
      "Requirement already satisfied: referencing>=0.28.4 in c:\\programdata\\anaconda3\\lib\\site-packages (from jsonschema>=3.0->altair<6,>=4.0->streamlit) (0.30.2)\n",
      "Requirement already satisfied: rpds-py>=0.7.1 in c:\\programdata\\anaconda3\\lib\\site-packages (from jsonschema>=3.0->altair<6,>=4.0->streamlit) (0.10.6)\n",
      "Requirement already satisfied: mdurl~=0.1 in c:\\programdata\\anaconda3\\lib\\site-packages (from markdown-it-py>=2.2.0->rich<14,>=10.14.0->streamlit) (0.1.0)\n",
      "Note: you may need to restart the kernel to use updated packages.\n"
     ]
    }
   ],
   "source": [
    "pip install pandas numpy matplotlib seaborn plotly scikit-learn imbalanced-learn streamlit"
   ]
  },
  {
   "cell_type": "code",
   "execution_count": 2,
   "id": "147ee649-dc90-4cd5-8fd8-5fb0075f0c81",
   "metadata": {},
   "outputs": [],
   "source": [
    "#import Libraries \n",
    "import pandas as pd\n",
    "import numpy as np\n",
    "import matplotlib.pyplot as plt\n",
    "import seaborn as sns\n",
    "import plotly.express as px\n",
    "import warnings\n",
    "warnings.filterwarnings('ignore')"
   ]
  },
  {
   "cell_type": "code",
   "execution_count": 3,
   "id": "69fc3bdb-973e-4651-a803-ec92e1f968a6",
   "metadata": {},
   "outputs": [
    {
     "data": {
      "text/html": [
       "<div>\n",
       "<style scoped>\n",
       "    .dataframe tbody tr th:only-of-type {\n",
       "        vertical-align: middle;\n",
       "    }\n",
       "\n",
       "    .dataframe tbody tr th {\n",
       "        vertical-align: top;\n",
       "    }\n",
       "\n",
       "    .dataframe thead th {\n",
       "        text-align: right;\n",
       "    }\n",
       "</style>\n",
       "<table border=\"1\" class=\"dataframe\">\n",
       "  <thead>\n",
       "    <tr style=\"text-align: right;\">\n",
       "      <th></th>\n",
       "      <th>Order ID</th>\n",
       "      <th>Order Date</th>\n",
       "      <th>Dispatch Date</th>\n",
       "      <th>Delivery Date</th>\n",
       "      <th>Seller ID</th>\n",
       "      <th>Product Category</th>\n",
       "      <th>Price</th>\n",
       "      <th>Quantity</th>\n",
       "      <th>Warehouse Zone</th>\n",
       "      <th>Customer Rating</th>\n",
       "      <th>Review Text</th>\n",
       "      <th>Sentiment Score</th>\n",
       "      <th>Return Flag</th>\n",
       "      <th>Complaint Code</th>\n",
       "      <th>Delivery Method</th>\n",
       "      <th>Customer Region</th>\n",
       "    </tr>\n",
       "  </thead>\n",
       "  <tbody>\n",
       "    <tr>\n",
       "      <th>0</th>\n",
       "      <td>O00000</td>\n",
       "      <td>5/28/2025</td>\n",
       "      <td>5/30/2025</td>\n",
       "      <td>06/06/2025</td>\n",
       "      <td>S033</td>\n",
       "      <td>Fashion</td>\n",
       "      <td>193.52</td>\n",
       "      <td>1.0</td>\n",
       "      <td>Kano</td>\n",
       "      <td>4.0</td>\n",
       "      <td>Packaging could be better but the item works f...</td>\n",
       "      <td>0.458333</td>\n",
       "      <td>No</td>\n",
       "      <td>No Complaint</td>\n",
       "      <td>Express</td>\n",
       "      <td>North Central</td>\n",
       "    </tr>\n",
       "    <tr>\n",
       "      <th>1</th>\n",
       "      <td>O00001</td>\n",
       "      <td>6/24/2025</td>\n",
       "      <td>6/26/2025</td>\n",
       "      <td>07/03/2025</td>\n",
       "      <td>S018</td>\n",
       "      <td>Groceries</td>\n",
       "      <td>86.45</td>\n",
       "      <td>3.0</td>\n",
       "      <td>Lagos</td>\n",
       "      <td>3.0</td>\n",
       "      <td>Packaging could be better but the item works f...</td>\n",
       "      <td>0.458333</td>\n",
       "      <td>No</td>\n",
       "      <td>No Complaint</td>\n",
       "      <td>Standard</td>\n",
       "      <td>Volta</td>\n",
       "    </tr>\n",
       "  </tbody>\n",
       "</table>\n",
       "</div>"
      ],
      "text/plain": [
       "  Order ID Order Date Dispatch Date Delivery Date Seller ID Product Category  \\\n",
       "0   O00000  5/28/2025     5/30/2025    06/06/2025      S033          Fashion   \n",
       "1   O00001  6/24/2025     6/26/2025    07/03/2025      S018        Groceries   \n",
       "\n",
       "    Price  Quantity Warehouse Zone  Customer Rating  \\\n",
       "0  193.52       1.0           Kano              4.0   \n",
       "1   86.45       3.0          Lagos              3.0   \n",
       "\n",
       "                                         Review Text  Sentiment Score  \\\n",
       "0  Packaging could be better but the item works f...         0.458333   \n",
       "1  Packaging could be better but the item works f...         0.458333   \n",
       "\n",
       "  Return Flag Complaint Code Delivery Method Customer Region  \n",
       "0          No   No Complaint         Express   North Central  \n",
       "1          No   No Complaint        Standard           Volta  "
      ]
     },
     "execution_count": 3,
     "metadata": {},
     "output_type": "execute_result"
    }
   ],
   "source": [
    "# Load dataset\n",
    "df = pd.read_csv('../data/jumia_jitters_dataset.csv')\n",
    "df.head(2)"
   ]
  },
  {
   "cell_type": "markdown",
   "id": "28d9efd0-ae96-4d32-b677-be8c67d9d742",
   "metadata": {},
   "source": [
    "#### INITIAL DATA EXPLORATION "
   ]
  },
  {
   "cell_type": "code",
   "execution_count": 27,
   "id": "154d4991-ab96-4a81-8fc5-d5e81c2da398",
   "metadata": {},
   "outputs": [
    {
     "name": "stdout",
     "output_type": "stream",
     "text": [
      "<class 'pandas.core.frame.DataFrame'>\n",
      "RangeIndex: 1000 entries, 0 to 999\n",
      "Data columns (total 16 columns):\n",
      " #   Column            Non-Null Count  Dtype  \n",
      "---  ------            --------------  -----  \n",
      " 0   Order ID          1000 non-null   object \n",
      " 1   Order Date        993 non-null    object \n",
      " 2   Dispatch Date     996 non-null    object \n",
      " 3   Delivery Date     998 non-null    object \n",
      " 4   Seller ID         1000 non-null   object \n",
      " 5   Product Category  989 non-null    object \n",
      " 6   Price             974 non-null    float64\n",
      " 7   Quantity          991 non-null    float64\n",
      " 8   Warehouse Zone    981 non-null    object \n",
      " 9   Customer Rating   997 non-null    float64\n",
      " 10  Review Text       967 non-null    object \n",
      " 11  Sentiment Score   994 non-null    float64\n",
      " 12  Return Flag       1000 non-null   object \n",
      " 13  Complaint Code    988 non-null    object \n",
      " 14  Delivery Method   1000 non-null   object \n",
      " 15  Customer Region   1000 non-null   object \n",
      "dtypes: float64(4), object(12)\n",
      "memory usage: 125.1+ KB\n"
     ]
    }
   ],
   "source": [
    "# Overview of structure\n",
    "df.info()"
   ]
  },
  {
   "cell_type": "code",
   "execution_count": 28,
   "id": "b0ae5177-e5e4-4a0c-a4dc-768bc97bd4de",
   "metadata": {},
   "outputs": [
    {
     "data": {
      "text/html": [
       "<div>\n",
       "<style scoped>\n",
       "    .dataframe tbody tr th:only-of-type {\n",
       "        vertical-align: middle;\n",
       "    }\n",
       "\n",
       "    .dataframe tbody tr th {\n",
       "        vertical-align: top;\n",
       "    }\n",
       "\n",
       "    .dataframe thead th {\n",
       "        text-align: right;\n",
       "    }\n",
       "</style>\n",
       "<table border=\"1\" class=\"dataframe\">\n",
       "  <thead>\n",
       "    <tr style=\"text-align: right;\">\n",
       "      <th></th>\n",
       "      <th>Price</th>\n",
       "      <th>Quantity</th>\n",
       "      <th>Customer Rating</th>\n",
       "      <th>Sentiment Score</th>\n",
       "    </tr>\n",
       "  </thead>\n",
       "  <tbody>\n",
       "    <tr>\n",
       "      <th>count</th>\n",
       "      <td>974.000000</td>\n",
       "      <td>991.000000</td>\n",
       "      <td>997.000000</td>\n",
       "      <td>994.000000</td>\n",
       "    </tr>\n",
       "    <tr>\n",
       "      <th>mean</th>\n",
       "      <td>256.466735</td>\n",
       "      <td>2.524723</td>\n",
       "      <td>3.442327</td>\n",
       "      <td>0.090091</td>\n",
       "    </tr>\n",
       "    <tr>\n",
       "      <th>std</th>\n",
       "      <td>137.696415</td>\n",
       "      <td>1.138466</td>\n",
       "      <td>1.214840</td>\n",
       "      <td>0.582074</td>\n",
       "    </tr>\n",
       "    <tr>\n",
       "      <th>min</th>\n",
       "      <td>10.070000</td>\n",
       "      <td>1.000000</td>\n",
       "      <td>1.000000</td>\n",
       "      <td>-0.975000</td>\n",
       "    </tr>\n",
       "    <tr>\n",
       "      <th>25%</th>\n",
       "      <td>136.650000</td>\n",
       "      <td>1.000000</td>\n",
       "      <td>3.000000</td>\n",
       "      <td>-0.300000</td>\n",
       "    </tr>\n",
       "    <tr>\n",
       "      <th>50%</th>\n",
       "      <td>266.860000</td>\n",
       "      <td>3.000000</td>\n",
       "      <td>4.000000</td>\n",
       "      <td>0.000000</td>\n",
       "    </tr>\n",
       "    <tr>\n",
       "      <th>75%</th>\n",
       "      <td>369.022500</td>\n",
       "      <td>4.000000</td>\n",
       "      <td>4.000000</td>\n",
       "      <td>0.500000</td>\n",
       "    </tr>\n",
       "    <tr>\n",
       "      <th>max</th>\n",
       "      <td>498.900000</td>\n",
       "      <td>4.000000</td>\n",
       "      <td>5.000000</td>\n",
       "      <td>1.000000</td>\n",
       "    </tr>\n",
       "  </tbody>\n",
       "</table>\n",
       "</div>"
      ],
      "text/plain": [
       "            Price    Quantity  Customer Rating  Sentiment Score\n",
       "count  974.000000  991.000000       997.000000       994.000000\n",
       "mean   256.466735    2.524723         3.442327         0.090091\n",
       "std    137.696415    1.138466         1.214840         0.582074\n",
       "min     10.070000    1.000000         1.000000        -0.975000\n",
       "25%    136.650000    1.000000         3.000000        -0.300000\n",
       "50%    266.860000    3.000000         4.000000         0.000000\n",
       "75%    369.022500    4.000000         4.000000         0.500000\n",
       "max    498.900000    4.000000         5.000000         1.000000"
      ]
     },
     "execution_count": 28,
     "metadata": {},
     "output_type": "execute_result"
    }
   ],
   "source": [
    "# Summary statistics\n",
    "df.describe()"
   ]
  },
  {
   "cell_type": "code",
   "execution_count": 29,
   "id": "60a77307-f889-4b4d-9b6c-c2a392043421",
   "metadata": {},
   "outputs": [
    {
     "data": {
      "text/plain": [
       "Order ID             0\n",
       "Order Date           7\n",
       "Dispatch Date        4\n",
       "Delivery Date        2\n",
       "Seller ID            0\n",
       "Product Category    11\n",
       "Price               26\n",
       "Quantity             9\n",
       "Warehouse Zone      19\n",
       "Customer Rating      3\n",
       "Review Text         33\n",
       "Sentiment Score      6\n",
       "Return Flag          0\n",
       "Complaint Code      12\n",
       "Delivery Method      0\n",
       "Customer Region      0\n",
       "dtype: int64"
      ]
     },
     "execution_count": 29,
     "metadata": {},
     "output_type": "execute_result"
    }
   ],
   "source": [
    "# Missing values count\n",
    "df.isnull().sum()"
   ]
  },
  {
   "cell_type": "code",
   "execution_count": 30,
   "id": "ceb82ea4-5c3c-4aa2-af3b-188b9e14f1a5",
   "metadata": {},
   "outputs": [
    {
     "data": {
      "text/plain": [
       "Index(['Order ID', 'Order Date', 'Dispatch Date', 'Delivery Date', 'Seller ID',\n",
       "       'Product Category', 'Price', 'Quantity', 'Warehouse Zone',\n",
       "       'Customer Rating', 'Review Text', 'Sentiment Score', 'Return Flag',\n",
       "       'Complaint Code', 'Delivery Method', 'Customer Region'],\n",
       "      dtype='object')"
      ]
     },
     "execution_count": 30,
     "metadata": {},
     "output_type": "execute_result"
    }
   ],
   "source": [
    "df.columns"
   ]
  },
  {
   "cell_type": "markdown",
   "id": "0c1f369f-c07e-4cc9-bef6-d558f192fe96",
   "metadata": {},
   "source": [
    "### CLEAN AND STANDARDIZE FIELDS "
   ]
  },
  {
   "cell_type": "code",
   "execution_count": 31,
   "id": "74aacc27-17f7-4f37-b36f-6c747a8c5448",
   "metadata": {},
   "outputs": [
    {
     "data": {
      "text/plain": [
       "Index(['order_id', 'order_date', 'dispatch_date', 'delivery_date', 'seller_id',\n",
       "       'product_category', 'price', 'quantity', 'warehouse_zone',\n",
       "       'customer_rating', 'review_text', 'sentiment_score', 'return_flag',\n",
       "       'complaint_code', 'delivery_method', 'customer_region'],\n",
       "      dtype='object')"
      ]
     },
     "execution_count": 31,
     "metadata": {},
     "output_type": "execute_result"
    }
   ],
   "source": [
    "# Normalize column names\n",
    "df.columns = df.columns.str.lower().str.replace(\" \", \"_\")\n",
    "df.columns # Confirm cleaned names"
   ]
  },
  {
   "cell_type": "code",
   "execution_count": 32,
   "id": "8fff22b0-2ac0-495c-bfde-e6dbe21fa624",
   "metadata": {},
   "outputs": [],
   "source": [
    "#convert date column\n",
    "df['order_date'] = pd.to_datetime(df['order_date'])\n",
    "df['dispatch_date'] = pd.to_datetime(df['dispatch_date'])\n",
    "df['delivery_date'] = pd.to_datetime(df['delivery_date'])"
   ]
  },
  {
   "cell_type": "code",
   "execution_count": 33,
   "id": "8611d2a8-fc9d-4e8f-837e-f923c9687cd7",
   "metadata": {},
   "outputs": [],
   "source": [
    "#FIX MISSING VALUES \n",
    "\n",
    "# Drop rows with critical missing dates\n",
    "df = df.dropna(subset=['order_date', 'dispatch_date', 'delivery_date'])\n",
    "\n",
    "# Fill categorical or text columns\n",
    "df['product_category'] = df['product_category'].fillna(\"Unknown\")\n",
    "df['warehouse_zone'] = df['warehouse_zone'].fillna(\"Not Assigned\")\n",
    "df['complaint_code'] = df['complaint_code'].fillna(\"None\")\n",
    "df['review_text'] = df['review_text'].fillna(\"No review\")\n",
    "\n",
    "# Fill numeric fields using median to handle outliers\n",
    "df['price'] = df['price'].fillna(df['price'].median())\n",
    "df['quantity'] = df['quantity'].fillna(df['quantity'].median())\n",
    "df['customer_rating'] = df['customer_rating'].fillna(df['customer_rating'].median())\n",
    "df['sentiment_score'] = df['sentiment_score'].fillna(df['sentiment_score'].median())\n"
   ]
  },
  {
   "cell_type": "code",
   "execution_count": 34,
   "id": "eff20ab2-8b68-4c17-a377-974e2d160f51",
   "metadata": {},
   "outputs": [],
   "source": [
    "#Clean Categorical Text Fields\n",
    "df['product_category'] = df['product_category'].str.title().str.strip()\n",
    "df['warehouse_zone'] = df['warehouse_zone'].str.title().str.strip()\n",
    "df['complaint_code'] = df['complaint_code'].str.upper().str.strip()\n",
    "df['delivery_method'] = df['delivery_method'].str.title().str.strip()\n",
    "df['customer_region'] = df['customer_region'].str.title().str.strip()"
   ]
  },
  {
   "cell_type": "code",
   "execution_count": 35,
   "id": "1bb9ac96-1940-4aef-85cc-896a66854228",
   "metadata": {},
   "outputs": [],
   "source": [
    "#Convert Target Column (return_flag) to Numeric\n",
    "df['return_flag'].unique()\n",
    "df['return_flag'] = df['return_flag'].map({'Yes': 1, 'No': 0})"
   ]
  },
  {
   "cell_type": "code",
   "execution_count": 36,
   "id": "59a440f4-0a23-428f-9df0-42a17afd5bbe",
   "metadata": {},
   "outputs": [
    {
     "data": {
      "text/html": [
       "<div>\n",
       "<style scoped>\n",
       "    .dataframe tbody tr th:only-of-type {\n",
       "        vertical-align: middle;\n",
       "    }\n",
       "\n",
       "    .dataframe tbody tr th {\n",
       "        vertical-align: top;\n",
       "    }\n",
       "\n",
       "    .dataframe thead th {\n",
       "        text-align: right;\n",
       "    }\n",
       "</style>\n",
       "<table border=\"1\" class=\"dataframe\">\n",
       "  <thead>\n",
       "    <tr style=\"text-align: right;\">\n",
       "      <th></th>\n",
       "      <th>order_id</th>\n",
       "      <th>order_date</th>\n",
       "      <th>dispatch_date</th>\n",
       "      <th>delivery_date</th>\n",
       "      <th>seller_id</th>\n",
       "      <th>product_category</th>\n",
       "      <th>price</th>\n",
       "      <th>quantity</th>\n",
       "      <th>warehouse_zone</th>\n",
       "      <th>customer_rating</th>\n",
       "      <th>review_text</th>\n",
       "      <th>sentiment_score</th>\n",
       "      <th>return_flag</th>\n",
       "      <th>complaint_code</th>\n",
       "      <th>delivery_method</th>\n",
       "      <th>customer_region</th>\n",
       "    </tr>\n",
       "  </thead>\n",
       "  <tbody>\n",
       "    <tr>\n",
       "      <th>0</th>\n",
       "      <td>O00000</td>\n",
       "      <td>2025-05-28</td>\n",
       "      <td>2025-05-30</td>\n",
       "      <td>2025-06-06</td>\n",
       "      <td>S033</td>\n",
       "      <td>Fashion</td>\n",
       "      <td>193.52</td>\n",
       "      <td>1.0</td>\n",
       "      <td>Kano</td>\n",
       "      <td>4.0</td>\n",
       "      <td>Packaging could be better but the item works f...</td>\n",
       "      <td>0.458333</td>\n",
       "      <td>0</td>\n",
       "      <td>NO COMPLAINT</td>\n",
       "      <td>Express</td>\n",
       "      <td>North Central</td>\n",
       "    </tr>\n",
       "    <tr>\n",
       "      <th>1</th>\n",
       "      <td>O00001</td>\n",
       "      <td>2025-06-24</td>\n",
       "      <td>2025-06-26</td>\n",
       "      <td>2025-07-03</td>\n",
       "      <td>S018</td>\n",
       "      <td>Groceries</td>\n",
       "      <td>86.45</td>\n",
       "      <td>3.0</td>\n",
       "      <td>Lagos</td>\n",
       "      <td>3.0</td>\n",
       "      <td>Packaging could be better but the item works f...</td>\n",
       "      <td>0.458333</td>\n",
       "      <td>0</td>\n",
       "      <td>NO COMPLAINT</td>\n",
       "      <td>Standard</td>\n",
       "      <td>Volta</td>\n",
       "    </tr>\n",
       "  </tbody>\n",
       "</table>\n",
       "</div>"
      ],
      "text/plain": [
       "  order_id order_date dispatch_date delivery_date seller_id product_category  \\\n",
       "0   O00000 2025-05-28    2025-05-30    2025-06-06      S033          Fashion   \n",
       "1   O00001 2025-06-24    2025-06-26    2025-07-03      S018        Groceries   \n",
       "\n",
       "    price  quantity warehouse_zone  customer_rating  \\\n",
       "0  193.52       1.0           Kano              4.0   \n",
       "1   86.45       3.0          Lagos              3.0   \n",
       "\n",
       "                                         review_text  sentiment_score  \\\n",
       "0  Packaging could be better but the item works f...         0.458333   \n",
       "1  Packaging could be better but the item works f...         0.458333   \n",
       "\n",
       "   return_flag complaint_code delivery_method customer_region  \n",
       "0            0   NO COMPLAINT         Express   North Central  \n",
       "1            0   NO COMPLAINT        Standard           Volta  "
      ]
     },
     "execution_count": 36,
     "metadata": {},
     "output_type": "execute_result"
    }
   ],
   "source": [
    "#check\n",
    "df.head(2)"
   ]
  },
  {
   "cell_type": "markdown",
   "id": "64b6e62e-a730-4953-a4f5-ed01c53a377c",
   "metadata": {},
   "source": [
    "### FEATURE ENGINEERING"
   ]
  },
  {
   "cell_type": "code",
   "execution_count": 37,
   "id": "eab4b00b-a801-42c5-9cf4-8fa0f5acd9fa",
   "metadata": {},
   "outputs": [],
   "source": [
    "# Delivery delay (in days)\n",
    "df['delivery_delay'] = (df['delivery_date'] - df['dispatch_date']).dt.days\n",
    "df['is_late'] = df['delivery_delay'].apply(lambda x: 1 if x > 0 else 0)\n",
    "\n",
    "# Order Value\n",
    "df['order_value'] = df['price'] * df['quantity']\n",
    "\n",
    "# Complaint flag\n",
    "df['has_complaint'] = df['complaint_code'].apply(lambda x: 0 if x == \"None\" else 1)\n",
    "\n",
    "# Low Rating flag\n",
    "df['low_rating'] = df['customer_rating'].apply(lambda x: 1 if x < 3 else 0)"
   ]
  },
  {
   "cell_type": "code",
   "execution_count": 38,
   "id": "779f5605-296e-4d50-b085-5d21d29d5f59",
   "metadata": {},
   "outputs": [],
   "source": [
    "# Review Length \n",
    "df['review_length'] = df['review_text'].apply(len)"
   ]
  },
  {
   "cell_type": "code",
   "execution_count": 39,
   "id": "b7fa9f87-42b7-465c-9b93-c8542883022d",
   "metadata": {},
   "outputs": [],
   "source": [
    "#sentiment label \n",
    "def sentiment_bucket(score):\n",
    "    if score >= 0.4:\n",
    "        return 'Positive'\n",
    "    elif score <= -0.4:\n",
    "        return 'Negative'\n",
    "    else:\n",
    "        return 'Neutral'\n",
    "\n",
    "df['sentiment_label'] = df['sentiment_score'].apply(sentiment_bucket)"
   ]
  },
  {
   "cell_type": "markdown",
   "id": "049fdf87-d240-48be-82cd-d7c3abeb579e",
   "metadata": {},
   "source": [
    "### SELLER- LEVEL RISK MATRICS "
   ]
  },
  {
   "cell_type": "code",
   "execution_count": 40,
   "id": "7cfa4868-866e-47b8-88b1-387ba3cc08a9",
   "metadata": {},
   "outputs": [],
   "source": [
    "# Return rate per seller\n",
    "seller_return_rate = df.groupby('seller_id')['return_flag'].mean().reset_index()\n",
    "seller_return_rate.columns = ['seller_id', 'seller_return_rate']"
   ]
  },
  {
   "cell_type": "code",
   "execution_count": 41,
   "id": "19307f7c-7a42-4edc-a54f-a2647524da1c",
   "metadata": {},
   "outputs": [],
   "source": [
    "# Complaint rate per seller\n",
    "seller_complaint_rate = df.groupby('seller_id')['has_complaint'].mean().reset_index()\n",
    "seller_complaint_rate.columns = ['seller_id', 'seller_complaint_rate']"
   ]
  },
  {
   "cell_type": "code",
   "execution_count": 42,
   "id": "2be3f555-748c-495e-b13e-1bca9dfe12fa",
   "metadata": {},
   "outputs": [
    {
     "data": {
      "text/html": [
       "<div>\n",
       "<style scoped>\n",
       "    .dataframe tbody tr th:only-of-type {\n",
       "        vertical-align: middle;\n",
       "    }\n",
       "\n",
       "    .dataframe tbody tr th {\n",
       "        vertical-align: top;\n",
       "    }\n",
       "\n",
       "    .dataframe thead th {\n",
       "        text-align: right;\n",
       "    }\n",
       "</style>\n",
       "<table border=\"1\" class=\"dataframe\">\n",
       "  <thead>\n",
       "    <tr style=\"text-align: right;\">\n",
       "      <th></th>\n",
       "      <th>seller_id</th>\n",
       "      <th>seller_return_rate</th>\n",
       "      <th>seller_complaint_rate</th>\n",
       "    </tr>\n",
       "  </thead>\n",
       "  <tbody>\n",
       "    <tr>\n",
       "      <th>0</th>\n",
       "      <td>S039</td>\n",
       "      <td>0.133333</td>\n",
       "      <td>1.0</td>\n",
       "    </tr>\n",
       "    <tr>\n",
       "      <th>1</th>\n",
       "      <td>S040</td>\n",
       "      <td>0.125000</td>\n",
       "      <td>1.0</td>\n",
       "    </tr>\n",
       "    <tr>\n",
       "      <th>2</th>\n",
       "      <td>S036</td>\n",
       "      <td>0.125000</td>\n",
       "      <td>1.0</td>\n",
       "    </tr>\n",
       "    <tr>\n",
       "      <th>3</th>\n",
       "      <td>S025</td>\n",
       "      <td>0.100000</td>\n",
       "      <td>1.0</td>\n",
       "    </tr>\n",
       "    <tr>\n",
       "      <th>4</th>\n",
       "      <td>S004</td>\n",
       "      <td>0.083333</td>\n",
       "      <td>1.0</td>\n",
       "    </tr>\n",
       "    <tr>\n",
       "      <th>5</th>\n",
       "      <td>S021</td>\n",
       "      <td>0.071429</td>\n",
       "      <td>1.0</td>\n",
       "    </tr>\n",
       "    <tr>\n",
       "      <th>6</th>\n",
       "      <td>S046</td>\n",
       "      <td>0.058824</td>\n",
       "      <td>1.0</td>\n",
       "    </tr>\n",
       "    <tr>\n",
       "      <th>7</th>\n",
       "      <td>S022</td>\n",
       "      <td>0.055556</td>\n",
       "      <td>1.0</td>\n",
       "    </tr>\n",
       "    <tr>\n",
       "      <th>8</th>\n",
       "      <td>S024</td>\n",
       "      <td>0.055556</td>\n",
       "      <td>1.0</td>\n",
       "    </tr>\n",
       "    <tr>\n",
       "      <th>9</th>\n",
       "      <td>S013</td>\n",
       "      <td>0.052632</td>\n",
       "      <td>1.0</td>\n",
       "    </tr>\n",
       "  </tbody>\n",
       "</table>\n",
       "</div>"
      ],
      "text/plain": [
       "  seller_id  seller_return_rate  seller_complaint_rate\n",
       "0      S039            0.133333                    1.0\n",
       "1      S040            0.125000                    1.0\n",
       "2      S036            0.125000                    1.0\n",
       "3      S025            0.100000                    1.0\n",
       "4      S004            0.083333                    1.0\n",
       "5      S021            0.071429                    1.0\n",
       "6      S046            0.058824                    1.0\n",
       "7      S022            0.055556                    1.0\n",
       "8      S024            0.055556                    1.0\n",
       "9      S013            0.052632                    1.0"
      ]
     },
     "execution_count": 42,
     "metadata": {},
     "output_type": "execute_result"
    }
   ],
   "source": [
    "# Merge both back into main dataframe\n",
    "df = df.merge(seller_return_rate, on='seller_id', how='left')\n",
    "df = df.merge(seller_complaint_rate, on='seller_id', how='left')\n",
    "\n",
    "df[['seller_id', 'seller_return_rate', 'seller_complaint_rate']].head()\n",
    "\n",
    "top_risky = df.groupby('seller_id')[['seller_return_rate', 'seller_complaint_rate']].mean()\n",
    "top_risky.sort_values(by='seller_return_rate', ascending=False).head(10).reset_index()"
   ]
  },
  {
   "cell_type": "code",
   "execution_count": 43,
   "id": "3df0fc66-42ce-4318-87ca-44998ae9a757",
   "metadata": {},
   "outputs": [],
   "source": [
    "# Composite Seller Risk Score\n",
    "df['seller_risk_score'] = (\n",
    "    0.5 * df['seller_return_rate'] + \n",
    "    0.5 * df['seller_complaint_rate']\n",
    ")"
   ]
  },
  {
   "cell_type": "code",
   "execution_count": 44,
   "id": "713a185e-958a-4964-adb0-d38d554f023d",
   "metadata": {},
   "outputs": [],
   "source": [
    "# Seller-Level Summary\n",
    "seller_summary = df.groupby('seller_id').agg({\n",
    "    'order_id': 'count',\n",
    "    'delivery_delay': 'mean',\n",
    "    'is_late': 'mean',\n",
    "    'has_complaint': 'mean',\n",
    "    'low_rating': 'mean',\n",
    "    'return_flag': 'mean',\n",
    "    'customer_rating': 'mean',\n",
    "    'order_value': 'sum',\n",
    "    'price': 'mean',\n",
    "    'seller_return_rate': 'mean',\n",
    "    'seller_complaint_rate': 'mean',\n",
    "    'seller_risk_score': 'mean'\n",
    "}).rename(columns={\n",
    "    'order_id': 'total_orders',\n",
    "    'delivery_delay': 'avg_delay',\n",
    "    'is_late': 'late_delivery_rate',\n",
    "    'has_complaint': 'complaint_rate',\n",
    "    'low_rating': 'low_rating_rate',\n",
    "    'return_flag': 'return_rate',\n",
    "    'customer_rating': 'avg_rating',\n",
    "    'order_value': 'total_revenue',\n",
    "    'price': 'avg_price'\n",
    "}).reset_index()"
   ]
  },
  {
   "cell_type": "code",
   "execution_count": 45,
   "id": "05186423-ff4c-4497-b281-6e766edcef5c",
   "metadata": {},
   "outputs": [],
   "source": [
    "seller_summary['seller_risk_score'] = (\n",
    "    0.5 * seller_summary['return_rate'] + \n",
    "    0.5 * seller_summary['complaint_rate']\n",
    ")"
   ]
  },
  {
   "cell_type": "markdown",
   "id": "6957d80f-49c3-43e2-a5e2-e36540faa48d",
   "metadata": {},
   "source": [
    "#### VISUALIZE INSIGHTS - TOP 10 RISKY SELLERS "
   ]
  },
  {
   "cell_type": "code",
   "execution_count": 46,
   "id": "bb266fa2-d552-40d8-ad39-b06151ab89ec",
   "metadata": {},
   "outputs": [
    {
     "data": {
      "image/png": "[encoded data removed]",
      "text/plain": [
       "<Figure size 1000x600 with 1 Axes>"
      ]
     },
     "metadata": {},
     "output_type": "display_data"
    }
   ],
   "source": [
    "top_risky_sellers = seller_summary.sort_values(by='seller_risk_score', ascending=False).head(10)\n",
    "\n",
    "plt.figure(figsize=(10,6))\n",
    "sns.barplot(\n",
    "    data=top_risky_sellers,\n",
    "    x='seller_risk_score',\n",
    "    y='seller_id',\n",
    "    palette='Reds_r'\n",
    ")\n",
    "plt.title(\"Top 10 Risky Sellers by Composite Risk Score\")\n",
    "plt.xlabel(\"Risk Score\")\n",
    "plt.ylabel(\"Seller ID\")\n",
    "plt.tight_layout()\n",
    "\n",
    "plt.savefig('../visuals/charts/seller_risk_chart.png')  # Save chart as PNG\n",
    "plt.show()"
   ]
  },
  {
   "cell_type": "code",
   "execution_count": 47,
   "id": "b5a9678e-3e38-419d-b97b-6cdbf2cd9a5d",
   "metadata": {},
   "outputs": [],
   "source": [
    "#Save Cleaned Files\n",
    "df.to_csv(\"../cleaned/cleaned_orders.csv\", index=False)\n",
    "seller_summary.to_csv(\"../cleaned/seller_summary.csv\", index=False)"
   ]
  },
  {
   "cell_type": "markdown",
   "id": "7dd4c8e3-cbaa-4f20-b72e-3d246ac54301",
   "metadata": {},
   "source": [
    "___\n",
    "## Phase 1 Summary: Data Cleaning & Feature Engineering\n",
    "\n",
    "I carried out the following tasks to prepare the dataset for analysis and modeling:\n",
    "...\n",
    "___\n",
    "#### Data Cleaning\n",
    "- Dropped rows with missing critical dates (`order_date`, `dispatch_date`, `delivery_date`)\n",
    "- Filled missing values in categorical and numeric fields using appropriate strategies\n",
    "- **Cleaned and standardized** fields like product categories, warehouse zones, and complaint codes\n",
    "- Normalized column names (lowercase, underscore format)\n",
    "...\n",
    "___\n",
    "#### Feature Engineering\n",
    "- Created new features to capture:\n",
    "  - `delivery_delay`: Delivery lag in days\n",
    "  - `is_late`: Binary flag for late deliveries\n",
    "  - `order_value`: Price × Quantity\n",
    "  - `has_complaint`: Binary flag from `complaint_code`\n",
    "  - `low_rating`: Flag for customer ratings below 3\n",
    "  - `review_length`: Character count of review text\n",
    "  - `sentiment_label`: Categorized sentiment based on `sentiment_score`\n",
    "...\n",
    "___\n",
    "#### Seller-Level Risk Metrics\n",
    "- Calculated:\n",
    "  - Seller-level **return rate**\n",
    "  - Seller-level **complaint rate**\n",
    "  - Composite **risk score** based on both metrics\n",
    "- Created `seller_summary` dataset for modeling, risk profiling, and visual analysis\n",
    "\n",
    "> This cleaned and enriched dataset forms the foundation for deeper analytics and predictive modeling in the next phases.\n",
    "..."
   ]
  }
 ],
 "metadata": {
  "kernelspec": {
   "display_name": "Python 3 (ipykernel)",
   "language": "python",
   "name": "python3"
  },
  "language_info": {
   "codemirror_mode": {
    "name": "ipython",
    "version": 3
   },
   "file_extension": ".py",
   "mimetype": "text/x-python",
   "name": "python",
   "nbconvert_exporter": "python",
   "pygments_lexer": "ipython3",
   "version": "3.12.7"
  }
 },
 "nbformat": 4,
 "nbformat_minor": 5
}
